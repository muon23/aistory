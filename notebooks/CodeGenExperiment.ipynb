{
 "cells": [
  {
   "cell_type": "code",
   "execution_count": 13,
   "outputs": [],
   "source": [
    "import json\n",
    "\n",
    "from typing import List, Tuple\n",
    "\n",
    "from cjw.aistory.utilities.GptPortal import GptPortal\n",
    "import os\n"
   ],
   "metadata": {
    "collapsed": false
   }
  },
  {
   "cell_type": "code",
   "execution_count": 14,
   "outputs": [],
   "source": [
    "key = os.environ.get(\"OPENAI_KEY\")\n",
    "os.environ[\"OPENAI_API_KEY\"] = key\n",
    "gpt = GptPortal.of(key)"
   ],
   "metadata": {
    "collapsed": false
   }
  },
  {
   "cell_type": "code",
   "execution_count": 15,
   "outputs": [],
   "source": [
    "specs = []\n",
    "conversation = []\n",
    "code = \"\""
   ],
   "metadata": {
    "collapsed": false
   }
  },
  {
   "cell_type": "code",
   "execution_count": 16,
   "outputs": [],
   "source": [
    "def addMessage(content: str | List[str], role: str = \"user\"):\n",
    "    global conversation\n",
    "    if isinstance(content, str):\n",
    "        content = [content]\n",
    "\n",
    "    conversation.append({\n",
    "        \"role\": role,\n",
    "        \"content\": '\\n'.join(content)\n",
    "    })"
   ],
   "metadata": {
    "collapsed": false
   }
  },
  {
   "cell_type": "code",
   "execution_count": 17,
   "outputs": [],
   "source": [
    "def addSpecs(content: str | List[str]):\n",
    "    global specs\n",
    "    if isinstance(content, str):\n",
    "        content = [content]\n",
    "\n",
    "    specs += content"
   ],
   "metadata": {
    "collapsed": false
   }
  },
  {
   "cell_type": "code",
   "execution_count": 27,
   "outputs": [],
   "source": [
    "def makeMessages():\n",
    "    global conversation, specs\n",
    "\n",
    "    return (\n",
    "            [{\n",
    "                \"role\": \"system\",\n",
    "                \"content\": '\\n\\n'.join(specs)\n",
    "            }] +\n",
    "            conversation +\n",
    "            [{\n",
    "                \"role\": \"user\",\n",
    "                \"content\": code\n",
    "            }]\n",
    "    )\n"
   ],
   "metadata": {
    "collapsed": false
   }
  },
  {
   "cell_type": "code",
   "execution_count": 43,
   "outputs": [],
   "source": [
    "addSpecs([\n",
    "    \"We are to write a python class 'ClassGen' together.  \"\n",
    "    \"It will take a set of specifications, written in natural languages, and generate a python class definition.\",\n",
    "    \"Generate the complete ClassGen each time.\"\n",
    "    \"**Specifications**\",\n",
    "])"
   ],
   "metadata": {
    "collapsed": false
   }
  },
  {
   "cell_type": "code",
   "execution_count": 20,
   "outputs": [],
   "source": [
    "addSpecs([\n",
    "    \"### Upon creating a ClassGen object, a user shall be able to state the purpose of the generated class.\",\n",
    "    \"### ClassGen shall allow a user to add specifications to the generated class.\",\n",
    "    \"### A user shall be able to call the generate() method, which output the class definition of the specs using GPT-4.\",\n",
    "    \"### A user shall be able give detailed instructions to fine-tune and correct the generated code.\",\n",
    "    \"### The response form GPT-4 may contain code descriptions.  ClassGen separate code from the description before returning them.  \"\n",
    "    \"The code starts with a line of '```python' and ends with a line of '```'.\",\n",
    "    \"### The generate() method shall use the specifications, the detail instructions, and the latest version generated code to generate the next version of teh code\",\n",
    "])"
   ],
   "metadata": {
    "collapsed": false
   }
  },
  {
   "cell_type": "code",
   "execution_count": 21,
   "outputs": [],
   "source": [
    "addSpecs(\n",
    "    \"### ClassGen shall use an external module GptPortal class to access GPT-4. \"\n",
    "    \"An example of it's usage:\\n\"\n",
    "    \"```python\"\n",
    "    \"from cjw.aistory.utilities.GptPortal import GptPortal\\n\"\n",
    "    \"key = os.environ.get('OPENAI_API_KEY')\\n\"\n",
    "    \"gpt = GptPortal.of(key)\\n\"\n",
    "    \"response = await gpt.chatCompletion(messages)\\n\"\n",
    "    \"```\\n\"\n",
    "    \"Where the 'messages' is the same as OpenAI GPT-4 ChatCompletion messages structure, the response['content'] contains the response, and response['role'] is 'assistant'.\",\n",
    ")\n"
   ],
   "metadata": {
    "collapsed": false
   }
  },
  {
   "cell_type": "code",
   "execution_count": 22,
   "outputs": [],
   "source": [
    "addSpecs([\n",
    "    \"### ClassGen shall provide a rewrite_specs() method, which update and consolidate the specs bsed on the instructions.\"\n",
    "])"
   ],
   "metadata": {
    "collapsed": false
   }
  },
  {
   "cell_type": "code",
   "execution_count": 28,
   "outputs": [],
   "source": [
    "def extract_code(content: str) -> Tuple[str, str]:\n",
    "    start_marker = '```python\\n'\n",
    "    if start_marker in content:\n",
    "        code_start = content.find(start_marker) + len(start_marker)\n",
    "        code_end = content.index(\"```\\n\", code_start)\n",
    "        python = content[code_start:code_end].strip()\n",
    "        description = content[:code_start] + '[old code omitted]\\n' + content[code_end:]\n",
    "        return python, description\n",
    "    else:\n",
    "        return '', content\n"
   ],
   "metadata": {
    "collapsed": false
   }
  },
  {
   "cell_type": "code",
   "execution_count": 24,
   "outputs": [],
   "source": [
    "async def generate():\n",
    "    messages = makeMessages()\n",
    "    response = await gpt.chatCompletion(messages)\n",
    "    python, description = extract_code(response[\"content\"])\n",
    "    addMessage(description, role=\"assistant\")\n",
    "    return python\n"
   ],
   "metadata": {
    "collapsed": false
   }
  },
  {
   "cell_type": "code",
   "execution_count": 25,
   "outputs": [
    {
     "name": "stdout",
     "output_type": "stream",
     "text": [
      "import os\n",
      "from cjw.aistory.utilities.GptPortal import GptPortal\n",
      "\n",
      "class ClassGen:\n",
      "    def __init__(self, purpose):\n",
      "        self.specs = []\n",
      "        self.detail_instructions = []\n",
      "        self.latest_code = \"\"\n",
      "        self.purpose = purpose\n",
      "        self.key = os.environ.get('OPENAI_API_KEY')\n",
      "        \n",
      "    def add_specification(self, spec: str, detail: str = \"\"):\n",
      "        self.specs.append(spec)\n",
      "        if detail:\n",
      "            self.detail_instructions.append(detail)\n",
      "        \n",
      "    def rewrite_specs(self, instructions):\n",
      "        self.specs.clear()\n",
      "        self.specs.extend(instructions)\n",
      "        \n",
      "    def generate(self):\n",
      "        gpt = GptPortal.of(self.key)\n",
      "        messages = self.get_messages()\n",
      "        response = await gpt.chatCompletion(messages)\n",
      "        return self.separate_code_from_description(response['content'])\n",
      "        \n",
      "    def get_messages(self):\n",
      "        return [\n",
      "            {\"role\": \"system\", \"content\": self.purpose},\n",
      "            *[\n",
      "                {\"role\": \"user\", \"content\": spec}\n",
      "                for spec in self.specs\n",
      "            ],\n",
      "            *[\n",
      "                {\"role\": \"user\", \"content\": instruction}\n",
      "                for instruction in self.detail_instructions\n",
      "            ],\n",
      "            {\"role\": \"user\", \"content\": self.latest_code}\n",
      "        ]\n",
      "\n",
      "    def separate_code_from_description(self, content):\n",
      "        content_lines = content.split('\\n')\n",
      "        code_start_index = content_lines.index('```python')\n",
      "        code_end_index = content_lines.index('```')\n",
      "\n",
      "        code = \"\\n\".join(content_lines[code_start_index + 1: code_end_index])\n",
      "        self.latest_code = code\n",
      "\n",
      "        description = \"\\n\".join(content_lines[:code_start_index] + content_lines[code_end_index + 1:])\n",
      "        return description, code\n"
     ]
    }
   ],
   "source": [
    "code = await generate()\n",
    "print(code)"
   ],
   "metadata": {
    "collapsed": false
   }
  },
  {
   "cell_type": "code",
   "execution_count": 44,
   "outputs": [],
   "source": [
    "addMessage([\n",
    "    \"1. generate() do not overwrite latest_code.  Return it so the user has a chance to manually change it.\",\n",
    "    \"2. generate() shall insert '[old code omitted]' to the description, and add it to the messages to GPT-4 as 'assistant'.\",\n",
    "    \"3. rewrite_specs() shall also use GptPortal to rewrite the specs based on additional inputs from the user's instructions.\"\n",
    "])"
   ],
   "metadata": {
    "collapsed": false
   }
  },
  {
   "cell_type": "code",
   "execution_count": 34,
   "outputs": [
    {
     "name": "stdout",
     "output_type": "stream",
     "text": [
      "import os\n",
      "from cjw.aistory.utilities.GptPortal import GptPortal\n",
      "\n",
      "class ClassGen:\n",
      "    def __init__(self, purpose):\n",
      "        self.specs = []\n",
      "        self.detail_instructions = []\n",
      "        self.latest_code = \"\"\n",
      "        self.purpose = purpose\n",
      "        self.key = os.environ.get('OPENAI_API_KEY')\n",
      "        \n",
      "    def add_specification(self, spec: str, detail: str = \"\"):\n",
      "        self.specs.append(spec)\n",
      "        if detail:\n",
      "            self.detail_instructions.append(detail)\n",
      "        \n",
      "    async def rewrite_specs(self, instructions):\n",
      "        self.specs.clear()\n",
      "        self.specs.extend(instructions)\n",
      "        gpt = GptPortal.of(self.key)\n",
      "        messages = [\n",
      "            {\"role\": \"system\", \"content\": \"Rewrite the following specifications.\"},\n",
      "            *[\n",
      "                {\"role\": \"user\", \"content\": instruction}\n",
      "                for instruction in instructions\n",
      "            ],\n",
      "        ]\n",
      "        response = await gpt.chatCompletion(messages)\n",
      "        return response['content']\n",
      "        \n",
      "    async def generate(self):\n",
      "        gpt = GptPortal.of(self.key)\n",
      "        messages = self.get_messages()\n",
      "        description, latest_code, = \"\", \"\"\n",
      "        if self.latest_code:\n",
      "            description = \"[old code omitted]\"\n",
      "            latest_code = self.latest_code\n",
      "        messages.append({\"role\": \"assistant\", \"content\": description})\n",
      "        response = await gpt.chatCompletion(messages)\n",
      "        new_description, new_code = self.separate_code_from_description(response['content'])\n",
      "        return new_description, new_code\n",
      "        \n",
      "    def get_messages(self):\n",
      "        return [\n",
      "            {\"role\": \"system\", \"content\": self.purpose},\n",
      "            *[\n",
      "                {\"role\": \"user\", \"content\": spec}\n",
      "                for spec in self.specs\n",
      "            ],\n",
      "            *[\n",
      "                {\"role\": \"user\", \"content\": instruction}\n",
      "                for instruction in self.detail_instructions\n",
      "            ],\n",
      "            {\"role\": \"assistant\", \"content\": self.latest_code}\n",
      "        ]\n",
      "\n",
      "    def separate_code_from_description(self, content):\n",
      "        content_lines = content.split('\\n')\n",
      "        code_start_index = content_lines.index('```python')\n",
      "        code_end_index = content_lines.index('```')\n",
      "\n",
      "        code = \"\\n\".join(content_lines[code_start_index + 1: code_end_index])\n",
      "\n",
      "        description = \"\\n\".join(content_lines[:code_start_index] + content_lines[code_end_index + 1:])\n",
      "        return description, code\n"
     ]
    }
   ],
   "source": [
    "code = await generate()\n",
    "print(code)"
   ],
   "metadata": {
    "collapsed": false
   }
  },
  {
   "cell_type": "code",
   "execution_count": 40,
   "outputs": [],
   "source": [
    "# code = \"\"\"\n",
    "# import os\n",
    "# from cjw.aistory.utilities.GptPortal import GptPortal\n",
    "#\n",
    "# class ClassGen:\n",
    "#     def __init__(self, purpose):\n",
    "#         self.specs = []\n",
    "#         self.detail_instructions = []\n",
    "#         self.latest_code = \"\"\n",
    "#         self.purpose = purpose\n",
    "#         self.key = os.environ.get('OPENAI_API_KEY')\n",
    "#\n",
    "#     def add_specification(self, spec: str, detail: str = \"\"):\n",
    "#         self.specs.append(spec)\n",
    "#         if detail:\n",
    "#             self.detail_instructions.append(detail)\n",
    "#\n",
    "#     async def rewrite_specs(self, instructions):\n",
    "#         self.specs.clear()\n",
    "#         self.specs.extend(instructions)\n",
    "#         gpt = GptPortal.of(self.key)\n",
    "#         messages = [\n",
    "#             {\"role\": \"system\", \"content\": \"Rewrite the following specifications.\"},\n",
    "#             *[\n",
    "#                 {\"role\": \"user\", \"content\": instruction}\n",
    "#                 for instruction in instructions\n",
    "#             ],\n",
    "#         ]\n",
    "#         response = await gpt.chatCompletion(messages)\n",
    "#         return response['content']\n",
    "#\n",
    "#     async def generate(self):\n",
    "#         gpt = GptPortal.of(self.key)\n",
    "#         messages = self.get_messages()\n",
    "#         description, latest_code, = \"\", \"\"\n",
    "#         if self.latest_code:\n",
    "#             description = \"[old code omitted]\"\n",
    "#             latest_code = self.latest_code\n",
    "#         messages.append({\"role\": \"assistant\", \"content\": description})\n",
    "#         response = await gpt.chatCompletion(messages)\n",
    "#         new_description, new_code = self.separate_code_from_description(response['content'])\n",
    "#         return new_description, new_code\n",
    "#\n",
    "#     def get_messages(self):\n",
    "#         return [\n",
    "#             {\"role\": \"system\", \"content\": self.purpose},\n",
    "#             *[\n",
    "#                 {\"role\": \"user\", \"content\": spec}\n",
    "#                 for spec in self.specs\n",
    "#             ],\n",
    "#             *[\n",
    "#                 {\"role\": \"user\", \"content\": instruction}\n",
    "#                 for instruction in self.detail_instructions\n",
    "#             ],\n",
    "#             {\"role\": \"assistant\", \"content\": self.latest_code}\n",
    "#         ]\n",
    "#\n",
    "#     def separate_code_from_description(self, content):\n",
    "#         content_lines = content.split('\\n')\n",
    "#         code_start_index = content_lines.index('```python')\n",
    "#         code_end_index = content_lines.index('```')\n",
    "#\n",
    "#         code = \"\\n\".join(content_lines[code_start_index + 1: code_end_index])\n",
    "#\n",
    "#         description = \"\\n\".join(content_lines[:code_start_index] + content_lines[code_end_index + 1:])\n",
    "#         return description, code\n",
    "# \"\"\""
   ],
   "metadata": {
    "collapsed": false
   }
  },
  {
   "cell_type": "code",
   "execution_count": 47,
   "outputs": [],
   "source": [
    "addMessage([\n",
    "    \"1. rewrite_specs() does not modify self.specs.  Return the result so the user has a chance to modify them.\",\n",
    "    \"2. rewrite_specs() shall include both the old specs and the instruction for rewriting.\",\n",
    "    \"3. You misunderstood the last instruction about '[old code omitted]'.  I meant you to add it to separate_code_from_description() where you extract the code from the response of GPT-4.  Then, in generate() add the description to the message as assistant's.\"\n",
    "])\n"
   ],
   "metadata": {
    "collapsed": false
   }
  },
  {
   "cell_type": "code",
   "execution_count": 49,
   "outputs": [
    {
     "name": "stdout",
     "output_type": "stream",
     "text": [
      "import os\n",
      "from cjw.aistory.utilities.GptPortal import GptPortal\n",
      "\n",
      "class ClassGen:\n",
      "    def __init__(self, purpose):\n",
      "        self.specs = []\n",
      "        self.detail_instructions = []\n",
      "        self.latest_code = \"\"\n",
      "        self.purpose = purpose\n",
      "        self.key = os.environ.get('OPENAI_API_KEY')\n",
      "        \n",
      "    def add_specification(self, spec: str, detail: str = \"\"):\n",
      "        self.specs.append(spec)\n",
      "        if detail:\n",
      "            self.detail_instructions.append(detail)\n",
      "        \n",
      "    async def rewrite_specs(self, instructions: list):\n",
      "        gpt = GptPortal.of(self.key)\n",
      "        messages = [\n",
      "            {\"role\": \"system\", \"content\": \"You are to rewrite the following specifications.\"},\n",
      "            {\"role\": \"user\", \"content\": \"\\n\".join(self.specs + instructions)}\n",
      "        ]\n",
      "        response = await gpt.chatCompletion(messages)\n",
      "        new_specs = response['choices'][0]['message']['content']\n",
      "        return new_specs\n",
      "        \n",
      "    async def generate(self):\n",
      "        gpt = GptPortal.of(self.key)\n",
      "        messages = self.get_messages()\n",
      "        response = await gpt.chatCompletion(messages)\n",
      "        description, new_code = self.separate_code_from_description(response['content'])\n",
      "        messages.append({\"role\": \"assistant\", \"content\": description})\n",
      "        return description, new_code\n",
      "\n",
      "    def get_messages(self):\n",
      "        return [\n",
      "            {\"role\": \"system\", \"content\": self.purpose},\n",
      "            *[\n",
      "                {\"role\": \"user\", \"content\": spec}\n",
      "                for spec in self.specs\n",
      "            ],\n",
      "            *[\n",
      "                {\"role\": \"user\", \"content\": instruction}\n",
      "                for instruction in self.detail_instructions\n",
      "            ],\n",
      "            {\"role\": \"assistant\", \"content\": self.latest_code}\n",
      "        ]\n",
      "\n",
      "    def separate_code_from_description(self, content):\n",
      "        content_lines = content.split('\\n')\n",
      "        code_start_index = content_lines.index('```python')\n",
      "        code_end_index = content_lines.index('```')\n",
      "        \n",
      "        code = \"\\n\".join(content_lines[code_start_index + 1: code_end_index])\n",
      "        description = \"\\n\".join(content_lines[:code_start_index] + [\"[old code omitted]\"] + content_lines[code_end_index+1:])\n",
      "        return description, code\n"
     ]
    }
   ],
   "source": [
    "code = await generate()\n",
    "print(code)"
   ],
   "metadata": {
    "collapsed": false
   }
  },
  {
   "cell_type": "code",
   "execution_count": 51,
   "outputs": [],
   "source": [
    "addMessage([\n",
    "    \"1. You can instantiate GptPortal at the constructor, so you cna use self.gpt in both generate() and rewrite_specs().\",\n",
    "    \"2. generate() only return the code.  The description shall be kept in the message so the conversation between the user and the assistant cab be provided in the get_messages() method.\",\n",
    "    \"3. in rewrite_specs(), the response already has the new specs in response['content'].\",\n",
    "    \"4. You need to tell GPT-4 to modify and consolidate the specs, with the additional input from the instruction.  Some of the instructions are to correct the mistakes form GPT-4, so shouldn't be included in the specs.\"\n",
    "])"
   ],
   "metadata": {
    "collapsed": false
   }
  },
  {
   "cell_type": "code",
   "execution_count": 54,
   "outputs": [],
   "source": [
    "# code = \"\"\"\n",
    "# import os\n",
    "# from cjw.aistory.utilities.GptPortal import GptPortal\n",
    "#\n",
    "# class ClassGen:\n",
    "#     def __init__(self, purpose):\n",
    "#         self.specs = []\n",
    "#         self.detail_instructions = []\n",
    "#         self.latest_code = \"\"\n",
    "#         self.purpose = purpose\n",
    "#         self.key = os.environ.get('OPENAI_API_KEY')\n",
    "#\n",
    "#     def add_specification(self, spec: str, detail: str = \"\"):\n",
    "#         self.specs.append(spec)\n",
    "#         if detail:\n",
    "#             self.detail_instructions.append(detail)\n",
    "#\n",
    "#     async def rewrite_specs(self, instructions: list):\n",
    "#         gpt = GptPortal.of(self.key)\n",
    "#         messages = [\n",
    "#             {\"role\": \"system\", \"content\": \"You are to rewrite the following specifications.\"},\n",
    "#             {\"role\": \"user\", \"content\": \"\\n\".join(self.specs + instructions)}\n",
    "#         ]\n",
    "#         response = await gpt.chatCompletion(messages)\n",
    "#         new_specs = response['choices'][0]['message']['content']\n",
    "#         return new_specs\n",
    "#\n",
    "#     async def generate(self):\n",
    "#         gpt = GptPortal.of(self.key)\n",
    "#         messages = self.get_messages()\n",
    "#         response = await gpt.chatCompletion(messages)\n",
    "#         description, new_code = self.separate_code_from_description(response['content'])\n",
    "#         messages.append({\"role\": \"assistant\", \"content\": description})\n",
    "#         return description, new_code\n",
    "#\n",
    "#     def get_messages(self):\n",
    "#         return [\n",
    "#             {\"role\": \"system\", \"content\": self.purpose},\n",
    "#             *[\n",
    "#                 {\"role\": \"user\", \"content\": spec}\n",
    "#                 for spec in self.specs\n",
    "#             ],\n",
    "#             *[\n",
    "#                 {\"role\": \"user\", \"content\": instruction}\n",
    "#                 for instruction in self.detail_instructions\n",
    "#             ],\n",
    "#             {\"role\": \"assistant\", \"content\": self.latest_code}\n",
    "#         ]\n",
    "#\n",
    "#     def separate_code_from_description(self, content):\n",
    "#         content_lines = content.split('\\n')\n",
    "#         code_start_index = content_lines.index('```python')\n",
    "#         code_end_index = content_lines.index('```')\n",
    "#\n",
    "#         code = \"\\n\".join(content_lines[code_start_index + 1: code_end_index])\n",
    "#         description = \"\\n\".join(content_lines[:code_start_index] + [\"[old code omitted]\"] + content_lines[code_end_index+1:])\n",
    "#         return description, code\n",
    "# \"\"\"\n",
    "#\n",
    "# conversation = conversation[:-1]"
   ],
   "metadata": {
    "collapsed": false
   }
  },
  {
   "cell_type": "code",
   "execution_count": 55,
   "outputs": [
    {
     "name": "stdout",
     "output_type": "stream",
     "text": [
      "from cjw.aistory.utilities.GptPortal import GptPortal\n",
      "import os\n",
      "\n",
      "class ClassGen:\n",
      "    def __init__(self, purpose):\n",
      "        self.purpose = purpose\n",
      "        self.specs = []\n",
      "        self.detail_instructions = []\n",
      "        self.latest_code = \"\"\n",
      "        self.gpt = GptPortal.of(os.environ.get('OPENAI_API_KEY'))\n",
      "\n",
      "    def add_specification(self, spec: str, detail: str = \"\"):\n",
      "        self.specs.append(spec)\n",
      "        if detail:\n",
      "            self.detail_instructions.append(detail)\n",
      "\n",
      "    async def generate(self):\n",
      "        messages = self.get_messages()\n",
      "        response = await self.gpt.chatCompletion(messages)\n",
      "        description, new_code = self.separate_code_from_description(response['choices'][0]['message']['content'])\n",
      "        self.latest_code = new_code\n",
      "        messages.append({\"role\": \"assistant\", \"content\": description})\n",
      "        return new_code\n",
      "\n",
      "    def get_messages(self):\n",
      "        return [\n",
      "            {\"role\": \"system\", \"content\": self.purpose},\n",
      "            *[\n",
      "                {\"role\": \"user\", \"content\": spec}\n",
      "                for spec in self.specs\n",
      "            ],\n",
      "            *[\n",
      "                {\"role\": \"user\", \"content\": instructions}\n",
      "                for instructions in self.detail_instructions\n",
      "            ],\n",
      "            {\"role\": \"assistant\", \"content\": self.latest_code}\n",
      "        ]\n",
      "\n",
      "    async def rewrite_specs(self, instructions: list):\n",
      "        messages = [\n",
      "            {\"role\": \"system\", \"content\": 'You are a helpful assistant.'},\n",
      "            {\"role\": \"user\", \"content\": f'Help me to rewrite and consolidate the following specifications based on the additional instructions: {\" \".join(self.specs + instructions)}'}\n",
      "        ]\n",
      "        response = await self.gpt.chatCompletion(messages)\n",
      "        return response['choices'][0]['message']['content']\n",
      "\n",
      "    def separate_code_from_description(self, content):\n",
      "        content_lines = content.split('\\n')\n",
      "        code_start_index = content_lines.index('```python')\n",
      "        code_end_index = content_lines.index('```')\n",
      "        code = \"\\n\".join(content_lines[code_start_index + 1: code_end_index])\n",
      "        description = \"\\n\".join(content_lines[:code_start_index] + [\"[old code omitted]\"] + content_lines[code_end_index+1:])\n",
      "        return description, code\n"
     ]
    }
   ],
   "source": [
    "code = await generate()\n",
    "print(code)"
   ],
   "metadata": {
    "collapsed": false
   }
  },
  {
   "cell_type": "code",
   "execution_count": 58,
   "outputs": [],
   "source": [
    "# code = \"\"\"\n",
    "# from cjw.aistory.utilities.GptPortal import GptPortal\n",
    "# import os\n",
    "#\n",
    "# class ClassGen:\n",
    "#     def __init__(self, purpose):\n",
    "#         self.purpose = purpose\n",
    "#         self.specs = []\n",
    "#         self.detail_instructions = []\n",
    "#         self.latest_code = \"\"\n",
    "#         self.gpt = GptPortal.of(os.environ.get('OPENAI_API_KEY'))\n",
    "#\n",
    "#     def add_specification(self, spec: str, detail: str = \"\"):\n",
    "#         self.specs.append(spec)\n",
    "#         if detail:\n",
    "#             self.detail_instructions.append(detail)\n",
    "#\n",
    "#     async def generate(self):\n",
    "#         messages = self.get_messages()\n",
    "#         response = await self.gpt.chatCompletion(messages)\n",
    "#         description, new_code = self.separate_code_from_description(response['choices'][0]['message']['content'])\n",
    "#         self.latest_code = new_code\n",
    "#         messages.append({\"role\": \"assistant\", \"content\": description})\n",
    "#         return new_code\n",
    "#\n",
    "#     def get_messages(self):\n",
    "#         return [\n",
    "#             {\"role\": \"system\", \"content\": self.purpose},\n",
    "#             *[\n",
    "#                 {\"role\": \"user\", \"content\": spec}\n",
    "#                 for spec in self.specs\n",
    "#             ],\n",
    "#             *[\n",
    "#                 {\"role\": \"user\", \"content\": instructions}\n",
    "#                 for instructions in self.detail_instructions\n",
    "#             ],\n",
    "#             {\"role\": \"assistant\", \"content\": self.latest_code}\n",
    "#         ]\n",
    "#\n",
    "#     async def rewrite_specs(self, instructions: list):\n",
    "#         messages = [\n",
    "#             {\"role\": \"system\", \"content\": 'You are a helpful assistant.'},\n",
    "#             {\"role\": \"user\", \"content\": f'Help me to rewrite and consolidate the following specifications based on the additional instructions: {\" \".join(self.specs + instructions)}'}\n",
    "#         ]\n",
    "#         response = await self.gpt.chatCompletion(messages)\n",
    "#         return response['choices'][0]['message']['content']\n",
    "#\n",
    "#     def separate_code_from_description(self, content):\n",
    "#         content_lines = content.split('\\n')\n",
    "#         code_start_index = content_lines.index('```python')\n",
    "#         code_end_index = content_lines.index('```')\n",
    "#         code = \"\\n\".join(content_lines[code_start_index + 1: code_end_index])\n",
    "#         description = \"\\n\".join(content_lines[:code_start_index] + [\"[old code omitted]\"] + content_lines[code_end_index+1:])\n",
    "#         return description, code\n",
    "#\n",
    "# \"\"\"\n",
    "#\n",
    "# conversation = conversation[:-1]"
   ],
   "metadata": {
    "collapsed": false
   }
  },
  {
   "cell_type": "code",
   "execution_count": 60,
   "outputs": [],
   "source": [
    "addSpecs([\n",
    "    \"1. Again, do not change self.latest_code.  Just return the new code.\",\n",
    "    \"2. In both generate and rewriet_specs, replace response['choices'][0]['message']['content'] with response['content'].\",\n",
    "    \"3. If you just mix specs and instruction together in rewrite_specs(), how can GPT-4 know what to rewrite?  How can GPT-4 know what were corrections of mistakes that should not be used to change the specs?\",\n",
    "    \"ALWAYS GENERATE COMPLETE CLASS!!\"\n",
    "])\n"
   ],
   "metadata": {
    "collapsed": false
   }
  },
  {
   "cell_type": "code",
   "execution_count": 61,
   "outputs": [
    {
     "name": "stdout",
     "output_type": "stream",
     "text": [
      "import os\n",
      "from cjw.aistory.utilities.GptPortal import GptPortal\n",
      "\n",
      "class ClassGen:\n",
      "    def __init__(self, purpose: str):\n",
      "        self.purpose = purpose\n",
      "        self.specs = []\n",
      "        self.detail_instructions = []\n",
      "        self.latest_code = ''\n",
      "        self.gpt = GptPortal.of(os.environ.get('OPENAI_API_KEY'))\n",
      "        self.messages = [{\"role\": \"system\", \"content\": self.purpose}]\n",
      "\n",
      "    def add_specification(self, spec: str, detail: str = \"\"):\n",
      "        self.specs.append(spec)\n",
      "        self.messages.append({\"role\": \"user\", \"content\": spec})\n",
      "        if detail:\n",
      "            self.detail_instructions.append(detail)\n",
      "            self.messages.append({\"role\": \"user\", \"content\": detail})\n",
      "\n",
      "    async def generate(self):\n",
      "        if self.latest_code:\n",
      "            self.messages.append({\"role\": \"assistant\", \"content\": self.latest_code})        \n",
      "        response = await self.gpt.chatCompletion(self.messages)\n",
      "        description, code = self.separate_code_from_description(response['content'])\n",
      "        self.messages.append({\"role\": \"assistant\", \"content\": description})\n",
      "        return code\n",
      "\n",
      "    async def rewrite_specs(self, instructions: str):\n",
      "        messages = [\n",
      "            {\"role\": \"system\", \"content\": 'You are a helpful assistant.'},\n",
      "            {\"role\": \"user\", \"content\": f'Help me to rewrite and consolidate the following specifications based on the additional instructions: {\" \".join(self.specs)}'},\n",
      "            {\"role\": \"user\", \"content\": instructions},\n",
      "        ]\n",
      "        response = await self.gpt.chatCompletion(messages)\n",
      "        return response['content']\n",
      "\n",
      "    def separate_code_from_description(self, content: str):\n",
      "        lines = content.split('\\n')\n",
      "        code_start = lines.index('```python') + 1\n",
      "        code_end = lines.index('```')\n",
      "        code = '\\n'.join(lines[code_start:code_end])\n",
      "        description = '\\n'.join(lines[:code_start - 1] + ['[old code omitted]'] + lines[code_end+1:])\n",
      "        return description, code\n",
      "\n",
      "    def get_messages(self):\n",
      "        return self.messages.copy()\n"
     ]
    }
   ],
   "source": [
    "code = await generate()\n",
    "print(code)"
   ],
   "metadata": {
    "collapsed": false
   }
  },
  {
   "cell_type": "code",
   "execution_count": 62,
   "outputs": [],
   "source": [
    "exec(code)"
   ],
   "metadata": {
    "collapsed": false
   }
  },
  {
   "cell_type": "code",
   "execution_count": 68,
   "outputs": [],
   "source": [
    "gen1 = ClassGen(\n",
    "    \"We are to write a python class 'ClassGen' together.  \"\n",
    "    \"It will take a set of specifications, written in natural languages, and generate a python class definition.\"\n",
    "    \"Generate the complete ClassGen each time.\"\n",
    ")\n",
    "\n",
    "for s in specs:\n",
    "    gen1.add_specification(s)\n",
    "\n",
    "gen1.latest_code = code\n",
    "\n",
    "gen1code = await gen1.generate()\n",
    "print(gen1code)"
   ],
   "metadata": {
    "collapsed": false
   }
  },
  {
   "cell_type": "code",
   "execution_count": 69,
   "outputs": [
    {
     "name": "stdout",
     "output_type": "stream",
     "text": [
      "import os\n",
      "from cjw.aistory.utilities.GptPortal import GptPortal\n",
      "\n",
      "class ClassGen:\n",
      "    def __init__(self, purpose: str):\n",
      "        self.purpose = purpose\n",
      "        self.specs = []\n",
      "        self.detail_instructions = []\n",
      "        self.latest_code = ''\n",
      "        self.gpt = GptPortal.of(os.environ.get('OPENAI_API_KEY'))\n",
      "        self.messages = [{\"role\": \"system\", \"content\": self.purpose}]\n",
      "\n",
      "    def add_specification(self, spec: str, detail: str = \"\"):\n",
      "        self.specs.append(spec)\n",
      "        self.messages.append({\"role\": \"user\", \"content\": spec})\n",
      "        if detail:\n",
      "            self.detail_instructions.append(detail)\n",
      "            self.messages.append({\"role\": \"user\", \"content\": detail})\n",
      "\n",
      "    async def generate(self):\n",
      "        if self.latest_code:\n",
      "            self.messages.append({\"role\": \"assistant\", \"content\": self.latest_code})        \n",
      "        response = await self.gpt.chatCompletion(self.messages)\n",
      "        description, code = self.separate_code_from_description(response['content'])\n",
      "        self.messages.append({\"role\": \"assistant\", \"content\": description})\n",
      "        return code\n",
      "\n",
      "    async def rewrite_specs(self, instructions: str):\n",
      "        messages = [\n",
      "            {\"role\": \"system\", \"content\": 'You are a helpful assistant.'},\n",
      "            {\"role\": \"user\", \"content\": f'Help me to rewrite and consolidate the following specifications based on the additional instructions: {\" \".join(self.specs)}'},\n",
      "            {\"role\": \"user\", \"content\": instructions},\n",
      "        ]\n",
      "        response = await self.gpt.chatCompletion(messages)\n",
      "        return response['content']\n",
      "\n",
      "    def separate_code_from_description(self, content: str):\n",
      "        lines = content.split('\\n')\n",
      "        code_start = lines.index('```python') + 1\n",
      "        code_end = lines.index('```')\n",
      "        code = '\\n'.join(lines[code_start:code_end])\n",
      "        description = '\\n'.join(lines[:code_start - 1] + ['[old code omitted]'] + lines[code_end+1:])\n",
      "        return description, code\n",
      "\n",
      "    def get_messages(self):\n",
      "        return self.messages.copy()\n"
     ]
    }
   ],
   "source": [
    "gen1."
   ],
   "metadata": {
    "collapsed": false
   }
  }
 ],
 "metadata": {
  "kernelspec": {
   "display_name": "Python 3",
   "language": "python",
   "name": "python3"
  },
  "language_info": {
   "codemirror_mode": {
    "name": "ipython",
    "version": 2
   },
   "file_extension": ".py",
   "mimetype": "text/x-python",
   "name": "python",
   "nbconvert_exporter": "python",
   "pygments_lexer": "ipython2",
   "version": "2.7.6"
  }
 },
 "nbformat": 4,
 "nbformat_minor": 0
}
