{
 "cells": [
  {
   "cell_type": "code",
   "execution_count": 1,
   "metadata": {
    "collapsed": true
   },
   "outputs": [],
   "source": [
    "import json\n",
    "\n",
    "from typing import List, Tuple\n",
    "\n",
    "from cjw.aistory.utilities.GptPortal import GptPortal\n",
    "import os\n"
   ]
  },
  {
   "cell_type": "code",
   "execution_count": 8,
   "outputs": [],
   "source": [
    "key = os.environ.get(\"OPENAI_KEY\")\n",
    "os.environ[\"OPENAI_API_KEY\"] = key\n",
    "gpt = GptPortal.of(key)\n",
    "conversation=[]"
   ],
   "metadata": {
    "collapsed": false
   }
  },
  {
   "cell_type": "code",
   "execution_count": 10,
   "outputs": [],
   "source": [
    "\n",
    "def addContents(messages: List[dict], contents: str | List[str], role: str = \"user\"):\n",
    "    if isinstance(contents, str):\n",
    "        contents = [contents]\n",
    "\n",
    "    messages.append({\n",
    "        \"role\": role,\n",
    "        \"content\": '\\n'.join(contents)\n",
    "    })\n"
   ],
   "metadata": {
    "collapsed": false
   }
  },
  {
   "cell_type": "code",
   "execution_count": 24,
   "outputs": [],
   "source": [
    "tableDescription = \"\"\"\n",
    "1. CustomerProfile\n",
    "- id\n",
    "- name\n",
    "- gender (optional)\n",
    "- age (optional)\n",
    "- location (optional)\n",
    "\n",
    "2. Purchases\n",
    "- id\n",
    "- customer_id\n",
    "- product_id\n",
    "- purchase_price\n",
    "- quantity\n",
    "- purchase_time\n",
    "\n",
    "3. Products\n",
    "- id\n",
    "- name\n",
    "- attributes\n",
    "- description\n",
    "\"\"\""
   ],
   "metadata": {
    "collapsed": false
   }
  },
  {
   "cell_type": "code",
   "execution_count": 25,
   "outputs": [],
   "source": [
    "systemPrompt = f\"\"\"\n",
    "Consider the following tables and their column names in a database:\n",
    "\n",
    "{tableDescription}\n",
    "\n",
    "We are to create a product recommender for a customer.\n",
    "\"\"\""
   ],
   "metadata": {
    "collapsed": false
   }
  },
  {
   "cell_type": "code",
   "execution_count": 26,
   "outputs": [],
   "source": [
    "addContents(conversation, systemPrompt, \"system\")"
   ],
   "metadata": {
    "collapsed": false
   }
  },
  {
   "cell_type": "code",
   "execution_count": 27,
   "outputs": [],
   "source": [
    "addContents(conversation, \"What should I consider with this problem?\")"
   ],
   "metadata": {
    "collapsed": false
   }
  },
  {
   "cell_type": "code",
   "execution_count": 28,
   "outputs": [
    {
     "data": {
      "text/plain": "[{'role': 'system',\n  'content': '\\nConsider the following tables and their column names in a database:\\n\\n\\n1. CustomerProfile\\n- id\\n- name\\n- gender (optional)\\n- age (optional)\\n- location (optional)\\n\\n2. Purchases\\n- id\\n- customer_id\\n- product_id\\n- purchase_price\\n- quantity\\n- purchase_time\\n\\n3. Products\\n- id\\n- name\\n- types\\n- description\\n\\n\\nWe are to create a product recommender for a customer.\\n'},\n {'role': 'user', 'content': 'Write a python code for it.'},\n {'role': 'system',\n  'content': '\\nConsider the following tables and their column names in a database:\\n\\n\\n1. CustomerProfile\\n- id\\n- name\\n- gender (optional)\\n- age (optional)\\n- location (optional)\\n\\n2. Purchases\\n- id\\n- customer_id\\n- product_id\\n- purchase_price\\n- quantity\\n- purchase_time\\n\\n3. Products\\n- id\\n- name\\n- types\\n- description\\n\\n\\nWe are to create a product recommender for a customer.\\n'},\n {'role': 'user', 'content': 'What should I considered with this problem?'},\n {'role': 'system',\n  'content': '\\nConsider the following tables and their column names in a database:\\n\\n\\n1. CustomerProfile\\n- id\\n- name\\n- gender (optional)\\n- age (optional)\\n- location (optional)\\n\\n2. Purchases\\n- id\\n- customer_id\\n- product_id\\n- purchase_price\\n- quantity\\n- purchase_time\\n\\n3. Products\\n- id\\n- name\\n- attributes\\n- description\\n\\n\\nWe are to create a product recommender for a customer.\\n'},\n {'role': 'user', 'content': 'What should I consider with this problem?'}]"
     },
     "execution_count": 28,
     "metadata": {},
     "output_type": "execute_result"
    }
   ],
   "source": [
    "conversation"
   ],
   "metadata": {
    "collapsed": false
   }
  },
  {
   "cell_type": "code",
   "execution_count": 29,
   "outputs": [],
   "source": [
    "response = await gpt.chatCompletion(conversation)"
   ],
   "metadata": {
    "collapsed": false
   }
  },
  {
   "cell_type": "code",
   "execution_count": 30,
   "outputs": [
    {
     "name": "stdout",
     "output_type": "stream",
     "text": [
      "To create a product recommender system, there are several things you need to think about:\n",
      "\n",
      "1. Customer profile: This is your base for personalizing the product recommendations. You can analyze your customer's age, gender, and location to wishlist similar products that other users with the same profile have bought.\n",
      "\n",
      "2. Purchase history: Analyzing the purchase history will give us the best idea of our customer's preferences. Identify the products or product types they have purchased the most, and recommend similar items.\n",
      "\n",
      "3. Product details: The details of the products can help recommend other products of a similar type or in the same category. Consider the types and the descriptions of frequently purchased items.\n",
      "\n",
      "4. Collaborative filtering: Consider what similar customers have bought. If a group of customers have bought similar items to this customer, and also bought another item, that item would be a good recommendation.\n",
      "\n",
      "You might also want to include a time factor, such as recommending items that are popular at this time of the year or in the current month. For instance, recommend more bathing suits in July, school supplies in August, and so on.\n",
      "\n",
      "The simplest approach would be to recommend the most popular products, but this won't give personalized recommendations. Aim to create a balance between popular products and personalized suggestions based on the factors mentioned above.\n"
     ]
    }
   ],
   "source": [
    "print(response[\"content\"])"
   ],
   "metadata": {
    "collapsed": false
   }
  },
  {
   "cell_type": "code",
   "execution_count": 31,
   "outputs": [],
   "source": [
    "addContents(conversation,\n",
    "            [\n",
    "                \"I'll use collaborative filtering, considering both the product attributes and customer purchase history.\",\n",
    "                \"The tables are in Parquet format.  Please write a PySpark ETL code that prepares the training data.\"\n",
    "            ])\n",
    "response = await gpt.chatCompletion(conversation)"
   ],
   "metadata": {
    "collapsed": false
   }
  },
  {
   "cell_type": "code",
   "execution_count": 32,
   "outputs": [
    {
     "name": "stdout",
     "output_type": "stream",
     "text": [
      "Sure, here is a simple PySpark ETL code that reads the Parquet files, processes the data, and prepares it for modeling.\n",
      "\n",
      "```python\n",
      "from pyspark.sql import SparkSession\n",
      "\n",
      "spark = SparkSession.builder.appName(\"Product Recommender\").getOrCreate()\n",
      "\n",
      "# Load data\n",
      "customerProfileDF = spark.read.parquet(\"path/to/customer_profile.parquet\")\n",
      "purchasesDF = spark.read.parquet(\"path/to/purchases.parquet\")\n",
      "productsDF = spark.read.parquet(\"path/to/products.parquet\")\n",
      "\n",
      "# Options to handle missing values would be either dropping the rows or filling them with a specified value. \n",
      "# Another way would be to use an imputer to fill missing values based on strategy such as mean or median, \n",
      "# however in this scenario we will drop them for simplicity.\n",
      "customerProfileDF = customerProfileDF.na.drop()\n",
      "purchasesDF = purchasesDF.na.drop()\n",
      "productsDF = productsDF.na.drop()\n",
      "\n",
      "# Data Transformation\n",
      "# 1. Convert 'gender' column from string to numeric values (male:0, female:1) \n",
      "customerProfileDF = customerProfileDF.withColumn(\"gender\", when(customerProfileDF.gender == \"male\", 0).otherwise(1))\n",
      "\n",
      "# 2. Extract 'year' from 'purchase_time' column as it might be useful\n",
      "purchasesDF = purchasesDF.withColumn(\"purchase_year\", year(purchasesDF.purchase_time))\n",
      "\n",
      "# Let's assume that 'product_id' in 'purchases' table and 'id' in 'products' table refers to the same product.\n",
      "# 3. Join 'purchases' and 'products' tables on 'product_id'\n",
      "purchasesWithProductDetailsDF = purchasesDF.join(productsDF, purchasesDF.product_id == productsDF.id)\n",
      "\n",
      "# 4. Group data by 'customer_id' and 'product_id' and calculate the total quantity of each product purchased by each customer\n",
      "trainingDataDF = purchasesWithProductDetailsDF.groupBy(\"customer_id\", \"product_id\").sum(\"quantity\").withColumnRenamed(\"sum(quantity)\", \"total_quantity\")\n",
      "\n",
      "# Return the processed data frames\n",
      "trainingDataDF.show()\n",
      "```\n",
      "\n",
      "Please replace \"path/to/\" with the actual path to your Parquet files.\n",
      "\n",
      "This PySpark script prepares the raw data for the product recommender model. It loads the data from parquet files, handles missing values, transforms categorical columns to numerical, extracts useful features, joins the relevant tables and generates the training data.\n",
      "\n",
      "Remember to import necessary libraries for this like functions for `year` and `when` is not implemented above. \n",
      "\n",
      "Also, we are assuming that customer_profile.parquet, purchases.parquet, and products.parquet are the names of your input files.\n",
      "\n",
      "Please note that this is a very simple and straightforward approach, and there's a lot more you could do for data preprocessing depending on the business requirements and the complexity of the problem. For instance, considering the optional fields in the customer profile could potentially improve the model's recommendation accuracy. Furthermore, the specifics of the product recommendation algorithm to be used would impact the preprocessing method.\n"
     ]
    }
   ],
   "source": [
    "print(response[\"content\"])"
   ],
   "metadata": {
    "collapsed": false
   }
  }
 ],
 "metadata": {
  "kernelspec": {
   "display_name": "Python 3",
   "language": "python",
   "name": "python3"
  },
  "language_info": {
   "codemirror_mode": {
    "name": "ipython",
    "version": 2
   },
   "file_extension": ".py",
   "mimetype": "text/x-python",
   "name": "python",
   "nbconvert_exporter": "python",
   "pygments_lexer": "ipython2",
   "version": "2.7.6"
  }
 },
 "nbformat": 4,
 "nbformat_minor": 0
}
